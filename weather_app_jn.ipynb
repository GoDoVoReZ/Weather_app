{
 "cells": [
  {
   "cell_type": "code",
   "execution_count": 13,
   "id": "aboriginal-society",
   "metadata": {},
   "outputs": [],
   "source": [
    "import requests\n",
    "import emoji\n",
    "\n",
    "API_KEY = 'f80c68c910ec32bfb6928c1f483bb0ad'\n",
    "city = 'Moscow'"
   ]
  },
  {
   "cell_type": "code",
   "execution_count": 15,
   "id": "sharp-hollywood",
   "metadata": {},
   "outputs": [],
   "source": [
    "res = requests.get('http://api.openweathermap.org/data/2.5/weather',\n",
    "                      params={'q':city, 'units':'metric', 'lang':'ru', 'APPID':API_KEY})"
   ]
  },
  {
   "cell_type": "code",
   "execution_count": 16,
   "id": "appropriate-chicago",
   "metadata": {},
   "outputs": [],
   "source": [
    "data = res.json()"
   ]
  },
  {
   "cell_type": "code",
   "execution_count": 26,
   "id": "casual-criticism",
   "metadata": {},
   "outputs": [
    {
     "data": {
      "text/plain": [
       "{'coord': {'lon': 37.6156, 'lat': 55.7522},\n",
       " 'weather': [{'id': 803,\n",
       "   'main': 'Clouds',\n",
       "   'description': 'облачно с прояснениями',\n",
       "   'icon': '04d'}],\n",
       " 'base': 'stations',\n",
       " 'main': {'temp': 6.33,\n",
       "  'feels_like': 1.61,\n",
       "  'temp_min': 5,\n",
       "  'temp_max': 7.22,\n",
       "  'pressure': 1010,\n",
       "  'humidity': 56},\n",
       " 'visibility': 10000,\n",
       " 'wind': {'speed': 9, 'deg': 250},\n",
       " 'clouds': {'all': 75},\n",
       " 'dt': 1619424093,\n",
       " 'sys': {'type': 1,\n",
       "  'id': 9027,\n",
       "  'country': 'RU',\n",
       "  'sunrise': 1619402265,\n",
       "  'sunset': 1619456197},\n",
       " 'timezone': 10800,\n",
       " 'id': 524901,\n",
       " 'name': 'Москва',\n",
       " 'cod': 200}"
      ]
     },
     "execution_count": 26,
     "metadata": {},
     "output_type": "execute_result"
    }
   ],
   "source": [
    "data"
   ]
  },
  {
   "cell_type": "code",
   "execution_count": null,
   "id": "expired-treasure",
   "metadata": {},
   "outputs": [],
   "source": []
  }
 ],
 "metadata": {
  "kernelspec": {
   "display_name": "Python 3",
   "language": "python",
   "name": "python3"
  },
  "language_info": {
   "codemirror_mode": {
    "name": "ipython",
    "version": 3
   },
   "file_extension": ".py",
   "mimetype": "text/x-python",
   "name": "python",
   "nbconvert_exporter": "python",
   "pygments_lexer": "ipython3",
   "version": "3.8.2"
  }
 },
 "nbformat": 4,
 "nbformat_minor": 5
}
