{
 "cells": [
  {
   "cell_type": "code",
   "execution_count": 3,
   "id": "legislative-complex",
   "metadata": {},
   "outputs": [
    {
     "name": "stdout",
     "output_type": "stream",
     "text": [
      "{'cod': 401, 'message': 'Invalid API key. Please see http://openweathermap.org/faq#error401 for more info.'}\n"
     ]
    }
   ],
   "source": [
    "import requests\n",
    "import time\n",
    "import datetime\n",
    "\n",
    "API_KEY = 'c58b2f48fcf78d904086210347585ef9'\n",
    "\n",
    "def get_weather_for_the_month(city:str) -> dict:\n",
    "    res = requests.get('https://pro.openweathermap.org/data/2.5/forecast/climate',\n",
    "                      params={'q':city, 'units':'metric', 'lang':'ru', 'APPID':API_KEY})\n",
    "    \n",
    "    data = res.json()\n",
    "    print(data)\n",
    "\n",
    "get_weather_for_the_month('Moscow,RU')"
   ]
  },
  {
   "cell_type": "code",
   "execution_count": 60,
   "id": "lightweight-cabinet",
   "metadata": {},
   "outputs": [],
   "source": [
    "res = get_weather('Moscow, RU')"
   ]
  },
  {
   "cell_type": "code",
   "execution_count": 61,
   "id": "champion-cable",
   "metadata": {},
   "outputs": [
    {
     "name": "stdout",
     "output_type": "stream",
     "text": [
      "{'City': 'Moscow, RU', 'Time': '2021-04-24 19:08:13', 'Temp': 4.88}\n"
     ]
    }
   ],
   "source": [
    "print(res)"
   ]
  },
  {
   "cell_type": "code",
   "execution_count": null,
   "id": "upset-occupation",
   "metadata": {},
   "outputs": [],
   "source": []
  }
 ],
 "metadata": {
  "kernelspec": {
   "display_name": "Python 3",
   "language": "python",
   "name": "python3"
  },
  "language_info": {
   "codemirror_mode": {
    "name": "ipython",
    "version": 3
   },
   "file_extension": ".py",
   "mimetype": "text/x-python",
   "name": "python",
   "nbconvert_exporter": "python",
   "pygments_lexer": "ipython3",
   "version": "3.8.2"
  }
 },
 "nbformat": 4,
 "nbformat_minor": 5
}
