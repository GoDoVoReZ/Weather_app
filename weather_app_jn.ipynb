{
 "cells": [
  {
   "cell_type": "code",
   "execution_count": 31,
   "id": "mounted-fever",
   "metadata": {},
   "outputs": [],
   "source": [
    "import requests\n",
    "import emoji\n",
    "\n",
    "API_KEY = 'f80c68c910ec32bfb6928c1f483bb0ad'\n",
    "city = 'Orenburg'"
   ]
  },
  {
   "cell_type": "code",
   "execution_count": 32,
   "id": "joined-ethics",
   "metadata": {},
   "outputs": [],
   "source": [
    "res = requests.get('http://api.openweathermap.org/data/2.5/weather',\n",
    "                      params={'q':city, 'units':'metric', 'lang':'ru', 'APPID':API_KEY})"
   ]
  },
  {
   "cell_type": "code",
   "execution_count": 33,
   "id": "solid-comparison",
   "metadata": {},
   "outputs": [],
   "source": [
    "data = res.json()"
   ]
  },
  {
   "cell_type": "code",
   "execution_count": 34,
   "id": "polar-product",
   "metadata": {},
   "outputs": [
    {
     "data": {
      "text/plain": [
       "{'coord': {'lon': 55.0988, 'lat': 51.7727},\n",
       " 'weather': [{'id': 800,\n",
       "   'main': 'Clear',\n",
       "   'description': 'ясно',\n",
       "   'icon': '01d'}],\n",
       " 'base': 'stations',\n",
       " 'main': {'temp': 13,\n",
       "  'feels_like': 11.14,\n",
       "  'temp_min': 13,\n",
       "  'temp_max': 13,\n",
       "  'pressure': 1019,\n",
       "  'humidity': 30},\n",
       " 'visibility': 10000,\n",
       " 'wind': {'speed': 2, 'deg': 360},\n",
       " 'clouds': {'all': 0},\n",
       " 'dt': 1619430391,\n",
       " 'sys': {'type': 1,\n",
       "  'id': 9044,\n",
       "  'country': 'RU',\n",
       "  'sunrise': 1619398816,\n",
       "  'sunset': 1619451254},\n",
       " 'timezone': 18000,\n",
       " 'id': 515003,\n",
       " 'name': 'Оренбург',\n",
       " 'cod': 200}"
      ]
     },
     "execution_count": 34,
     "metadata": {},
     "output_type": "execute_result"
    }
   ],
   "source": [
    "data"
   ]
  },
  {
   "cell_type": "code",
   "execution_count": null,
   "id": "figured-header",
   "metadata": {},
   "outputs": [],
   "source": []
  }
 ],
 "metadata": {
  "kernelspec": {
   "display_name": "Python 3",
   "language": "python",
   "name": "python3"
  },
  "language_info": {
   "codemirror_mode": {
    "name": "ipython",
    "version": 3
   },
   "file_extension": ".py",
   "mimetype": "text/x-python",
   "name": "python",
   "nbconvert_exporter": "python",
   "pygments_lexer": "ipython3",
   "version": "3.8.2"
  }
 },
 "nbformat": 4,
 "nbformat_minor": 5
}
