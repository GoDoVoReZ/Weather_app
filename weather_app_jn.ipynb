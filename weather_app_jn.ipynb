{
 "cells": [
  {
   "cell_type": "code",
   "execution_count": 43,
   "id": "completed-flashing",
   "metadata": {},
   "outputs": [],
   "source": [
    "import requests\n",
    "import emoji\n",
    "\n",
    "API_KEY = 'f80c68c910ec32bfb6928c1f483bb0ad'\n",
    "city = 'Петрозаводск'"
   ]
  },
  {
   "cell_type": "code",
   "execution_count": 44,
   "id": "impossible-postcard",
   "metadata": {},
   "outputs": [],
   "source": [
    "res = requests.get('http://api.openweathermap.org/data/2.5/weather',\n",
    "                      params={'q':city, 'units':'metric', 'lang':'ru', 'APPID':API_KEY})"
   ]
  },
  {
   "cell_type": "code",
   "execution_count": 45,
   "id": "tracked-canyon",
   "metadata": {},
   "outputs": [],
   "source": [
    "data = res.json()"
   ]
  },
  {
   "cell_type": "code",
   "execution_count": 46,
   "id": "quantitative-blind",
   "metadata": {},
   "outputs": [
    {
     "data": {
      "text/plain": [
       "{'coord': {'lon': 34.3469, 'lat': 61.7849},\n",
       " 'weather': [{'id': 500,\n",
       "   'main': 'Rain',\n",
       "   'description': 'небольшой дождь',\n",
       "   'icon': '10d'}],\n",
       " 'base': 'stations',\n",
       " 'main': {'temp': 4,\n",
       "  'feels_like': -0.37,\n",
       "  'temp_min': 4,\n",
       "  'temp_max': 4,\n",
       "  'pressure': 1007,\n",
       "  'humidity': 81},\n",
       " 'visibility': 10000,\n",
       " 'wind': {'speed': 6, 'deg': 350},\n",
       " 'rain': {'1h': 0.21},\n",
       " 'clouds': {'all': 75},\n",
       " 'dt': 1619430497,\n",
       " 'sys': {'type': 1,\n",
       "  'id': 8929,\n",
       "  'country': 'RU',\n",
       "  'sunrise': 1619401519,\n",
       "  'sunset': 1619458511},\n",
       " 'timezone': 10800,\n",
       " 'id': 509820,\n",
       " 'name': 'Петрозаводск',\n",
       " 'cod': 200}"
      ]
     },
     "execution_count": 46,
     "metadata": {},
     "output_type": "execute_result"
    }
   ],
   "source": [
    "data"
   ]
  },
  {
   "cell_type": "code",
   "execution_count": null,
   "id": "brave-mattress",
   "metadata": {},
   "outputs": [],
   "source": []
  }
 ],
 "metadata": {
  "kernelspec": {
   "display_name": "Python 3",
   "language": "python",
   "name": "python3"
  },
  "language_info": {
   "codemirror_mode": {
    "name": "ipython",
    "version": 3
   },
   "file_extension": ".py",
   "mimetype": "text/x-python",
   "name": "python",
   "nbconvert_exporter": "python",
   "pygments_lexer": "ipython3",
   "version": "3.8.2"
  }
 },
 "nbformat": 4,
 "nbformat_minor": 5
}
