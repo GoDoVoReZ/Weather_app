{
 "cells": [
  {
   "cell_type": "code",
   "execution_count": 11,
   "id": "julian-simon",
   "metadata": {},
   "outputs": [],
   "source": [
    "import wikipedia"
   ]
  },
  {
   "cell_type": "code",
   "execution_count": 13,
   "id": "given-thanks",
   "metadata": {},
   "outputs": [],
   "source": [
    "def city_wiki_info(city:str):\n",
    "    return wikipedia.summary(city)\n",
    "    "
   ]
  },
  {
   "cell_type": "code",
   "execution_count": 14,
   "id": "brave-peace",
   "metadata": {},
   "outputs": [
    {
     "name": "stdout",
     "output_type": "stream",
     "text": [
      "Aktobe (Kazakh: Ақтөбе, romanized: Aqtöbe) is a city on the Ilek River in Kazakhstan. It is the administrative center of Aktobe Region. In 2020, it had a population of 500,757 people.\n",
      "Aktobe is located in the West of Kazakhstan. The square of the city is about 428,469 km2. There are 2 water reservoires - Aktobe and Sazdy.\n",
      "\n",
      "Aktobe ranks fourth among the cities of Kazakhstan in terms of the number of inhabitants and is the largest city in Western Kazakhstan. It is national diverse city. 79% of population are Kazakhs, and 14.8% are Russians. The predominant religions of the citizens are Islam and Christianity. Aglomeration of Aktobe is expected to grow up to 1.3 million people, including nearest settlements.\n"
     ]
    }
   ],
   "source": [
    "result = city_wiki_info('Aktobe')\n",
    "print(result)"
   ]
  },
  {
   "cell_type": "code",
   "execution_count": null,
   "id": "considerable-karma",
   "metadata": {},
   "outputs": [],
   "source": []
  }
 ],
 "metadata": {
  "kernelspec": {
   "display_name": "Python 3",
   "language": "python",
   "name": "python3"
  },
  "language_info": {
   "codemirror_mode": {
    "name": "ipython",
    "version": 3
   },
   "file_extension": ".py",
   "mimetype": "text/x-python",
   "name": "python",
   "nbconvert_exporter": "python",
   "pygments_lexer": "ipython3",
   "version": "3.8.2"
  }
 },
 "nbformat": 4,
 "nbformat_minor": 5
}
