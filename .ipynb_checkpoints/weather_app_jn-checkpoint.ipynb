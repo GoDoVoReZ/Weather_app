{
 "cells": [
  {
   "cell_type": "code",
   "execution_count": 2,
   "id": "julian-simon",
   "metadata": {},
   "outputs": [],
   "source": [
    "import requests\n",
    "API_KEY = 'f80c68c910ec32bfb6928c1f483bb0ad'"
   ]
  },
  {
   "cell_type": "code",
   "execution_count": 3,
   "id": "efficient-absolute",
   "metadata": {},
   "outputs": [],
   "source": [
    "def week_weather(city: str)->dict:\n",
    "    try:\n",
    "        res = requests.get(\"http://api.openweathermap.org/data/2.5/forecast\",\n",
    "                           params={'q':city, 'units': 'metric', 'lang': 'ru', 'APPID': API_KEY})\n",
    "        data = res.json()\n",
    "        for i in data['list']:\n",
    "            print( i['dt_txt'], '{0:+3.0f}'.format(i['main']['temp']), i['weather'])\n",
    "    except Exception as e:\n",
    "        print(\"Exception (forecast):\", e)\n",
    "        pass"
   ]
  },
  {
   "cell_type": "code",
   "execution_count": 4,
   "id": "eight-complexity",
   "metadata": {},
   "outputs": [
    {
     "name": "stdout",
     "output_type": "stream",
     "text": [
      "2021-05-03 09:00:00 +23 ясно\n",
      "2021-05-03 12:00:00 +23 небольшая облачность\n",
      "2021-05-03 15:00:00 +21 облачно с прояснениями\n",
      "2021-05-03 18:00:00 +19 пасмурно\n",
      "2021-05-03 21:00:00 +16 пасмурно\n",
      "2021-05-04 00:00:00 +15 пасмурно\n",
      "2021-05-04 03:00:00 +16 пасмурно\n",
      "2021-05-04 06:00:00 +21 пасмурно\n",
      "2021-05-04 09:00:00 +24 облачно с прояснениями\n",
      "2021-05-04 12:00:00 +24 переменная облачность\n",
      "2021-05-04 15:00:00 +20 облачно с прояснениями\n",
      "2021-05-04 18:00:00 +16 переменная облачность\n",
      "2021-05-04 21:00:00 +14 ясно\n",
      "2021-05-05 00:00:00 +13 ясно\n",
      "2021-05-05 03:00:00 +17 ясно\n",
      "2021-05-05 06:00:00 +23 переменная облачность\n",
      "2021-05-05 09:00:00 +25 пасмурно\n",
      "2021-05-05 12:00:00 +23 пасмурно\n",
      "2021-05-05 15:00:00 +13 пасмурно\n",
      "2021-05-05 18:00:00 +10 пасмурно\n",
      "2021-05-05 21:00:00  +9 облачно с прояснениями\n",
      "2021-05-06 00:00:00  +7 переменная облачность\n",
      "2021-05-06 03:00:00  +9 ясно\n",
      "2021-05-06 06:00:00 +12 ясно\n",
      "2021-05-06 09:00:00 +15 ясно\n",
      "2021-05-06 12:00:00 +15 ясно\n",
      "2021-05-06 15:00:00 +13 ясно\n",
      "2021-05-06 18:00:00 +10 ясно\n",
      "2021-05-06 21:00:00  +8 ясно\n",
      "2021-05-07 00:00:00  +7 ясно\n",
      "2021-05-07 03:00:00 +10 ясно\n",
      "2021-05-07 06:00:00 +14 ясно\n",
      "2021-05-07 09:00:00 +17 ясно\n",
      "2021-05-07 12:00:00 +18 ясно\n",
      "2021-05-07 15:00:00 +15 ясно\n",
      "2021-05-07 18:00:00 +12 небольшая облачность\n",
      "2021-05-07 21:00:00 +10 переменная облачность\n",
      "2021-05-08 00:00:00  +9 переменная облачность\n",
      "2021-05-08 03:00:00 +13 переменная облачность\n",
      "2021-05-08 06:00:00 +18 небольшая облачность\n"
     ]
    }
   ],
   "source": [
    "week_weather('Aktobe')"
   ]
  },
  {
   "cell_type": "code",
   "execution_count": null,
   "id": "enhanced-washington",
   "metadata": {},
   "outputs": [],
   "source": []
  }
 ],
 "metadata": {
  "kernelspec": {
   "display_name": "Python 3",
   "language": "python",
   "name": "python3"
  },
  "language_info": {
   "codemirror_mode": {
    "name": "ipython",
    "version": 3
   },
   "file_extension": ".py",
   "mimetype": "text/x-python",
   "name": "python",
   "nbconvert_exporter": "python",
   "pygments_lexer": "ipython3",
   "version": "3.8.2"
  }
 },
 "nbformat": 4,
 "nbformat_minor": 5
}
