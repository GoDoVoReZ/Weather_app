{
 "cells": [
  {
   "cell_type": "code",
   "execution_count": 58,
   "id": "wired-methodology",
   "metadata": {},
   "outputs": [],
   "source": [
    "import requests\n",
    "import time\n",
    "import datetime\n",
    "\n",
    "API_KEY = 'f80c68c910ec32bfb6928c1f483bb0ad'\n",
    "\n",
    "def get_weather(city: str) -> dict:\n",
    "\n",
    "    res = requests.get('http://api.openweathermap.org/data/2.5/weather',\n",
    "                      params={'q':city, 'units':'metric', 'lang':'ru', 'APPID':API_KEY})\n",
    "    \n",
    "    data = res.json()\n",
    "    \n",
    "    time_d = str(time.ctime(data['dt']))[4:]\n",
    "    time_res = str(datetime.datetime.strptime(time_d, '%b %d %H:%M:%S %Y'))\n",
    "    \n",
    "    d_data = {}\n",
    "    d_data['City'] = city\n",
    "    d_data['Time'] = time_res\n",
    "    d_data['Temp'] = data['main']['temp']\n",
    "\n",
    "    return d_data"
   ]
  },
  {
   "cell_type": "code",
   "execution_count": null,
   "id": "based-things",
   "metadata": {},
   "outputs": [],
   "source": [
    "res = w"
   ]
  }
 ],
 "metadata": {
  "kernelspec": {
   "display_name": "Python 3",
   "language": "python",
   "name": "python3"
  },
  "language_info": {
   "codemirror_mode": {
    "name": "ipython",
    "version": 3
   },
   "file_extension": ".py",
   "mimetype": "text/x-python",
   "name": "python",
   "nbconvert_exporter": "python",
   "pygments_lexer": "ipython3",
   "version": "3.8.2"
  }
 },
 "nbformat": 4,
 "nbformat_minor": 5
}
